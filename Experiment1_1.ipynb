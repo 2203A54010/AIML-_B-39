{
  "nbformat": 4,
  "nbformat_minor": 0,
  "metadata": {
    "colab": {
      "provenance": []
    },
    "kernelspec": {
      "name": "python3",
      "display_name": "Python 3"
    },
    "language_info": {
      "name": "python"
    }
  },
  "cells": [
    {
      "cell_type": "code",
      "execution_count": 1,
      "metadata": {
        "colab": {
          "base_uri": "https://localhost:8080/"
        },
        "id": "BDEARUpv3Tns",
        "outputId": "b4633a7a-43e3-4616-d780-b74b0da0e49f"
      },
      "outputs": [
        {
          "output_type": "stream",
          "name": "stdout",
          "text": [
            "list1 =  [1, 2, 3]\n",
            "array1 =  [1 2 3]\n",
            "list1 =  [4, 5, 6]\n",
            "array1 =  [4 5 6]\n",
            "Dimension of array1  1\n",
            "Dimension of array2  1\n",
            "Type of the variable list1  <class 'list'>\n",
            "Type of the variable list2  <class 'list'>\n",
            "Type of the variable array1  <class 'numpy.ndarray'>\n",
            "Type of the variable array2  <class 'numpy.ndarray'>\n",
            "multiplication of array1 and array2 =  [ 4 10 18]\n",
            "powerof array1 = [1 4 9]\n",
            "powerof array2 =  [16 25 36]\n",
            "array2 divided by array1 =  [4.  2.5 2. ]\n",
            "Sum of two lists =  21\n",
            "Sum of two arrays: array1 + array2 =  21\n",
            "sine of array1=  [0.84147098 0.90929743 0.14112001]\n",
            "sine of array2=  [-0.7568025  -0.95892427 -0.2794155 ]\n",
            "logarithm of array1 with base e =  [0.         0.69314718 1.09861229]\n",
            "logarithm of array2 with base e =  [1.38629436 1.60943791 1.79175947]\n",
            "logarithm of array1 with base 2 =  [0.        1.        1.5849625]\n",
            "logarithm of array2 with base 2 =  [2.         2.32192809 2.5849625 ]\n"
          ]
        }
      ],
      "source": [
        "import numpy as np\n",
        "import math as m\n",
        "list1 = [1,2,3]\n",
        "array1 = np.array(list1)\n",
        "print(\"list1 = \",list1)\n",
        "print(\"array1 = \",array1)\n",
        "list2 = [4,5,6]\n",
        "array2 = np.array(list2)\n",
        "print(\"list1 = \",list2)\n",
        "print(\"array1 = \",array2)\n",
        "print(\"Dimension of array1 \",array1.ndim)\n",
        "print(\"Dimension of array2 \",array2.ndim)\n",
        "print(\"Type of the variable list1 \",type(list1))\n",
        "print(\"Type of the variable list2 \",type(list2))\n",
        "print(\"Type of the variable array1 \",type(array1))\n",
        "print(\"Type of the variable array2 \",type(array2))\n",
        "print(\"multiplication of array1 and array2 = \",array1 * array2)\n",
        "print(\"powerof array1 =\",array1 **2)\n",
        "print(\"powerof array2 = \",array2 **2)\n",
        "print(\"array2 divided by array1 = \",array2 / array1)\n",
        "print(\"Sum of two lists = \",sum(list1)+sum(list2))\n",
        "print(\"Sum of two arrays: array1 + array2 = \",sum(array1)+sum(array2))\n",
        "print(\"sine of array1= \",np.sin(array1))\n",
        "print(\"sine of array2= \",np.sin(array2))\n",
        "print(\"logarithm of array1 with base e = \",np.log(array1))\n",
        "print(\"logarithm of array2 with base e = \",np.log(array2))\n",
        "print(\"logarithm of array1 with base 2 = \",np.log2(array1))\n",
        "print(\"logarithm of array2 with base 2 = \",np.log2(array2))"
      ]
    }
  ]
}