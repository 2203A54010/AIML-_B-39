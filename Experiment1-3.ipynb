{
  "cells": [
    {
      "cell_type": "markdown",
      "metadata": {
        "id": "SMmGt2x9du6s"
      },
      "source": [
        "Part 3"
      ]
    },
    {
      "cell_type": "code",
      "execution_count": null,
      "metadata": {
        "colab": {
          "base_uri": "https://localhost:8080/"
        },
        "id": "rOcZXStUbDWe",
        "outputId": "0d8a0bbc-ff54-412e-f2ec-d38688dea21f"
      },
      "outputs": [
        {
          "name": "stdout",
          "output_type": "stream",
          "text": [
            "CSV file\n",
            "        name  age  height\n",
            "0     akshay   20     165\n",
            "1       ajay   19     170\n",
            "2     anurag   20     160\n",
            "3  navaneeth   20     175\n",
            "XLSX file\n",
            "        name  age  height\n",
            "0     akshay   20     165\n",
            "1       ajay   19     170\n",
            "2     anurag   20     160\n",
            "3  navaneeth   20     175\n",
            "TSV file\n",
            "    name,age,height\n",
            "0     akshay,20,165\n",
            "1       ajay,19,170\n",
            "2     anurag,20,160\n",
            "3  navaneeth,20,175\n"
          ]
        }
      ],
      "source": [
        "import pandas as pd\n",
        "data_csv = pd.read_csv('/content/A/Excelsheet2.csv')\n",
        "print(\"CSV file\")\n",
        "print(data_csv)\n",
        "data_excel = pd.read_excel('/content/A/Excelsheet.xlsx')\n",
        "print(\"XLSX file\")\n",
        "print(data_excel)\n",
        "data_tsv = pd.read_csv('/content/A/Excelsheet2.csv',sep='\\t')\n",
        "print(\"TSV file\")\n",
        "print(data_tsv)"
      ]
    }
  ],
  "metadata": {
    "colab": {
      "provenance": []
    },
    "kernelspec": {
      "display_name": "Python 3",
      "name": "python3"
    },
    "language_info": {
      "name": "python"
    }
  },
  "nbformat": 4,
  "nbformat_minor": 0
}
